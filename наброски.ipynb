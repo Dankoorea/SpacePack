{
 "cells": [
  {
   "cell_type": "code",
   "execution_count": null,
   "id": "f3ca459c",
   "metadata": {},
   "outputs": [],
   "source": [
    "Постановка задачи\n",
    "В вашем распоряжении каким-то образом очутилась банковская модель классификации, предсказывающая дефолт клиента.\n",
    "Это рекуррентная нейросеть, принимающая на вход последние 300 транзакций клиента и классифицирующая клиентов на 2 класса. \n",
    "У вас нет доступа к полному набору данных, на которых модель была обучена, однако есть небольшая размеченная \n",
    "выборка клиентов с сопроводительными материалами.\n",
    "\n",
    "Более того, у вас еще более таинственным образом имеется возможность частично изменять данные транзакций, \n",
    "которые будут поступать этой модели на вход. Ваша задача – взять неразмеченный файл с клиентскими транзакциями \n",
    "и внести в него атакующие изменения, удовлетворяющие ряду ограничений:\n",
    "\n",
    "Бюджет: вы можете менять не более 10 транзакций у каждого клиента. Вы можете менять как все 10 транзакций,\n",
    "так и меньшее их число.\n",
    "\n",
    "Цели: вы можете менять MCC коды и сумму каждой транзакции, как вместе, так и по отдельности, \n",
    "но вы не можете менять ничего другого. Вы не можете удалять транзакции, либо добавлять новые.\n",
    "\n",
    "Лимиты: после внесения вами изменений, сумма в каждой измененной транзакции должна лежать в заранее известном диапазоне\n",
    "между минимумом и максимумом по соответствующему MCC коду."
   ]
  },
  {
   "cell_type": "code",
   "execution_count": null,
   "id": "c683bd6e",
   "metadata": {},
   "outputs": [],
   "source": [
    "ВСЕМ!(Кто не знпает узнать, кто знает повторить, и всем узнать нового)\n",
    "\n",
    "Работа с csv:\n",
    "    1)https://andreyex.ru/programmirovanie/python/kak-rabotat-s-csv-fajlami-v-python/\n",
    "    2)https://python-scripts.com/import-csv-python\n",
    "        \n",
    "    \n",
    "Для защиты:\n",
    "    1)https://www.kaggle.com/code/gpreda/credit-card-fraud-detection-with-rf-auc-0-93\n",
    "    2)https://www.kaggle.com/code/pranav84/talkingdata-eda-to-model-evaluation-lb-0-9683\n",
    "(это решения по ROC-AUC,на всякий случай, может пригодиться)\n",
    "\n",
    "\n",
    "Для атаки:\n",
    "    1)https://ru.stackoverflow.com/questions/1366502/%D0%9A%D0%B0%D0%BA%D0%B8%D0%B5-%D0%BC%D0%B5%D1%82%D1%80%D0%B8%D0%BA%D0%B8-%D0%BB%D1%83%D1%87%D1%88%D0%B5-%D0%B2%D1%81%D0%B5%D0%B3%D0%BE-%D0%B8%D1%81%D0%BF%D0%BE%D0%BB%D1%8C%D0%B7%D0%BE%D0%B2%D0%B0%D1%82%D1%8C-%D0%B2-%D0%B7%D0%B0%D0%B4%D0%B0%D1%87%D0%B5-%D0%B1%D0%B8%D0%BD%D0%B0%D1%80%D0%BD%D0%BE%D0%B9-%D0%BA%D0%BB%D0%B0%D1%81%D1%81%D0%B8%D1%84%D0%B8%D0%BA%D0%B0%D1%86%D0%B8%D0%B8\n",
    "    2)https://futurebanking.ru/post/3761\n",
    "    3)https://habr.com/ru/company/ods/blog/328372/\n",
    "    4)https://pages.cs.wisc.edu/~jdavis/davisgoadrichcamera2.pdf\n",
    "    5)https://github.com/search?l=Python&o=desc&q=csv+editor&s=stars&type=Repositories\n",
    "    6)"
   ]
  }
 ],
 "metadata": {
  "kernelspec": {
   "display_name": "Python 3 (ipykernel)",
   "language": "python",
   "name": "python3"
  },
  "language_info": {
   "codemirror_mode": {
    "name": "ipython",
    "version": 3
   },
   "file_extension": ".py",
   "mimetype": "text/x-python",
   "name": "python",
   "nbconvert_exporter": "python",
   "pygments_lexer": "ipython3",
   "version": "3.9.13"
  }
 },
 "nbformat": 4,
 "nbformat_minor": 5
}
